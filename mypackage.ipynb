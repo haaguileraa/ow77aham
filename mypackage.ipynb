{
 "cells": [
  {
   "cell_type": "code",
   "execution_count": 3,
   "id": "5cf8e10e",
   "metadata": {},
   "outputs": [],
   "source": [
    "import numpy as np\n",
    "from ipywidgets import interact, fixed\n",
    "from PIL import Image\n",
    "    \n",
    "def imshow(X, resize=None):\n",
    "    \"\"\"\n",
    "    You should create a way to resize an image from an array X. \n",
    "    The use of widgets is optional but you can take a look to interact.\n",
    "    We should be able to install this package in Google Colab from your Git \n",
    "    repo. \n",
    "    \"\"\"\n",
    "    print('test2')\n",
    "    pass"
   ]
  },
  {
   "cell_type": "code",
   "execution_count": 4,
   "id": "033536c6",
   "metadata": {},
   "outputs": [
    {
     "name": "stdout",
     "output_type": "stream",
     "text": [
      "test2\n"
     ]
    }
   ],
   "source": [
    "imshow(2)"
   ]
  },
  {
   "cell_type": "code",
   "execution_count": null,
   "id": "0e50dd5e",
   "metadata": {},
   "outputs": [],
   "source": []
  }
 ],
 "metadata": {
  "kernelspec": {
   "display_name": "myvenv",
   "language": "python",
   "name": "myvenv"
  },
  "language_info": {
   "codemirror_mode": {
    "name": "ipython",
    "version": 3
   },
   "file_extension": ".py",
   "mimetype": "text/x-python",
   "name": "python",
   "nbconvert_exporter": "python",
   "pygments_lexer": "ipython3",
   "version": "3.8.8"
  }
 },
 "nbformat": 4,
 "nbformat_minor": 5
}
